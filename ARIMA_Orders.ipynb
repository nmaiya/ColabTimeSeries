{
  "nbformat": 4,
  "nbformat_minor": 0,
  "metadata": {
    "colab": {
      "provenance": [],
      "authorship_tag": "ABX9TyO48JaOBCejKzLHr7294aFt",
      "include_colab_link": true
    },
    "kernelspec": {
      "name": "python3",
      "display_name": "Python 3"
    },
    "language_info": {
      "name": "python"
    }
  },
  "cells": [
    {
      "cell_type": "markdown",
      "metadata": {
        "id": "view-in-github",
        "colab_type": "text"
      },
      "source": [
        "<a href=\"https://colab.research.google.com/github/nmaiya/ColabTimeSeries/blob/main/ARIMA_Orders.ipynb\" target=\"_parent\"><img src=\"https://colab.research.google.com/assets/colab-badge.svg\" alt=\"Open In Colab\"/></a>"
      ]
    },
    {
      "cell_type": "code",
      "execution_count": 2,
      "metadata": {
        "id": "7eDayLhgZiuM"
      },
      "outputs": [],
      "source": [
        "import pandas as pd\n",
        "import numpy as np\n",
        "%matplotlib inline\n",
        "\n",
        "airlinePass=pd.read_csv('/content/airline_passengers.csv',index_col='Month',parse_dates=True)\n",
        "airlinePass.index.freq='MS'\n",
        "\n",
        "FemaleBirths=pd.read_csv('/content/DailyTotalFemaleBirths.csv',index_col='Date',parse_dates=True)\n",
        "FemaleBirths.index.freq='D'\n"
      ]
    },
    {
      "cell_type": "code",
      "source": [
        "pip install pmdarima"
      ],
      "metadata": {
        "colab": {
          "base_uri": "https://localhost:8080/"
        },
        "id": "L4xRBh1VIw5T",
        "outputId": "186823b0-a1d5-4000-f82d-0bc7458ad7cf"
      },
      "execution_count": 6,
      "outputs": [
        {
          "output_type": "stream",
          "name": "stdout",
          "text": [
            "Collecting pmdarima\n",
            "  Downloading pmdarima-2.0.4-cp310-cp310-manylinux_2_17_x86_64.manylinux2014_x86_64.manylinux_2_28_x86_64.whl (2.1 MB)\n",
            "\u001b[2K     \u001b[90m━━━━━━━━━━━━━━━━━━━━━━━━━━━━━━━━━━━━━━━━\u001b[0m \u001b[32m2.1/2.1 MB\u001b[0m \u001b[31m11.0 MB/s\u001b[0m eta \u001b[36m0:00:00\u001b[0m\n",
            "\u001b[?25hRequirement already satisfied: joblib>=0.11 in /usr/local/lib/python3.10/dist-packages (from pmdarima) (1.4.2)\n",
            "Requirement already satisfied: Cython!=0.29.18,!=0.29.31,>=0.29 in /usr/local/lib/python3.10/dist-packages (from pmdarima) (3.0.10)\n",
            "Requirement already satisfied: numpy>=1.21.2 in /usr/local/lib/python3.10/dist-packages (from pmdarima) (1.25.2)\n",
            "Requirement already satisfied: pandas>=0.19 in /usr/local/lib/python3.10/dist-packages (from pmdarima) (2.0.3)\n",
            "Requirement already satisfied: scikit-learn>=0.22 in /usr/local/lib/python3.10/dist-packages (from pmdarima) (1.2.2)\n",
            "Requirement already satisfied: scipy>=1.3.2 in /usr/local/lib/python3.10/dist-packages (from pmdarima) (1.11.4)\n",
            "Requirement already satisfied: statsmodels>=0.13.2 in /usr/local/lib/python3.10/dist-packages (from pmdarima) (0.14.2)\n",
            "Requirement already satisfied: urllib3 in /usr/local/lib/python3.10/dist-packages (from pmdarima) (2.0.7)\n",
            "Requirement already satisfied: setuptools!=50.0.0,>=38.6.0 in /usr/local/lib/python3.10/dist-packages (from pmdarima) (67.7.2)\n",
            "Requirement already satisfied: packaging>=17.1 in /usr/local/lib/python3.10/dist-packages (from pmdarima) (24.1)\n",
            "Requirement already satisfied: python-dateutil>=2.8.2 in /usr/local/lib/python3.10/dist-packages (from pandas>=0.19->pmdarima) (2.8.2)\n",
            "Requirement already satisfied: pytz>=2020.1 in /usr/local/lib/python3.10/dist-packages (from pandas>=0.19->pmdarima) (2023.4)\n",
            "Requirement already satisfied: tzdata>=2022.1 in /usr/local/lib/python3.10/dist-packages (from pandas>=0.19->pmdarima) (2024.1)\n",
            "Requirement already satisfied: threadpoolctl>=2.0.0 in /usr/local/lib/python3.10/dist-packages (from scikit-learn>=0.22->pmdarima) (3.5.0)\n",
            "Requirement already satisfied: patsy>=0.5.6 in /usr/local/lib/python3.10/dist-packages (from statsmodels>=0.13.2->pmdarima) (0.5.6)\n",
            "Requirement already satisfied: six in /usr/local/lib/python3.10/dist-packages (from patsy>=0.5.6->statsmodels>=0.13.2->pmdarima) (1.16.0)\n",
            "Installing collected packages: pmdarima\n",
            "Successfully installed pmdarima-2.0.4\n"
          ]
        }
      ]
    },
    {
      "cell_type": "code",
      "source": [
        "from pmdarima import auto_arima"
      ],
      "metadata": {
        "id": "6R-GAu1cJAyv"
      },
      "execution_count": 7,
      "outputs": []
    },
    {
      "cell_type": "code",
      "source": [
        "stepwise_fit=auto_arima(FemaleBirths['Births'],start_p=0,start_q=0,max_p=6,max_q=3,seasonal=False,trace=True)"
      ],
      "metadata": {
        "colab": {
          "base_uri": "https://localhost:8080/"
        },
        "id": "kbSXhnP2JEq2",
        "outputId": "61035d7a-f345-4b83-c188-f99f8a40f94e"
      },
      "execution_count": 9,
      "outputs": [
        {
          "output_type": "stream",
          "name": "stdout",
          "text": [
            "Performing stepwise search to minimize aic\n",
            " ARIMA(0,1,0)(0,0,0)[0] intercept   : AIC=2650.760, Time=0.05 sec\n",
            " ARIMA(1,1,0)(0,0,0)[0] intercept   : AIC=2565.234, Time=0.13 sec\n",
            " ARIMA(0,1,1)(0,0,0)[0] intercept   : AIC=2463.584, Time=0.35 sec\n",
            " ARIMA(0,1,0)(0,0,0)[0]             : AIC=2648.768, Time=0.06 sec\n",
            " ARIMA(1,1,1)(0,0,0)[0] intercept   : AIC=2460.154, Time=0.59 sec\n",
            " ARIMA(2,1,1)(0,0,0)[0] intercept   : AIC=2461.271, Time=0.86 sec\n",
            " ARIMA(1,1,2)(0,0,0)[0] intercept   : AIC=inf, Time=1.49 sec\n",
            " ARIMA(0,1,2)(0,0,0)[0] intercept   : AIC=2460.722, Time=0.29 sec\n",
            " ARIMA(2,1,0)(0,0,0)[0] intercept   : AIC=2536.154, Time=0.18 sec\n",
            " ARIMA(2,1,2)(0,0,0)[0] intercept   : AIC=2463.056, Time=0.98 sec\n",
            " ARIMA(1,1,1)(0,0,0)[0]             : AIC=2459.074, Time=0.11 sec\n",
            " ARIMA(0,1,1)(0,0,0)[0]             : AIC=2462.221, Time=0.06 sec\n",
            " ARIMA(1,1,0)(0,0,0)[0]             : AIC=2563.261, Time=0.05 sec\n",
            " ARIMA(2,1,1)(0,0,0)[0]             : AIC=2460.367, Time=0.17 sec\n",
            " ARIMA(1,1,2)(0,0,0)[0]             : AIC=2460.427, Time=0.33 sec\n",
            " ARIMA(0,1,2)(0,0,0)[0]             : AIC=2459.571, Time=0.09 sec\n",
            " ARIMA(2,1,0)(0,0,0)[0]             : AIC=2534.205, Time=0.07 sec\n",
            " ARIMA(2,1,2)(0,0,0)[0]             : AIC=2462.366, Time=0.43 sec\n",
            "\n",
            "Best model:  ARIMA(1,1,1)(0,0,0)[0]          \n",
            "Total fit time: 6.328 seconds\n"
          ]
        }
      ]
    },
    {
      "cell_type": "code",
      "source": [
        "stepwise_fit.summary()"
      ],
      "metadata": {
        "colab": {
          "base_uri": "https://localhost:8080/",
          "height": 430
        },
        "id": "lg1XyretKBM1",
        "outputId": "1106ac15-3cb8-40b6-ca3c-2974a75581fd"
      },
      "execution_count": 11,
      "outputs": [
        {
          "output_type": "execute_result",
          "data": {
            "text/plain": [
              "<class 'statsmodels.iolib.summary.Summary'>\n",
              "\"\"\"\n",
              "                               SARIMAX Results                                \n",
              "==============================================================================\n",
              "Dep. Variable:                      y   No. Observations:                  365\n",
              "Model:               SARIMAX(1, 1, 1)   Log Likelihood               -1226.537\n",
              "Date:                Tue, 16 Jul 2024   AIC                           2459.074\n",
              "Time:                        20:09:14   BIC                           2470.766\n",
              "Sample:                    01-01-1959   HQIC                          2463.721\n",
              "                         - 12-31-1959                                         \n",
              "Covariance Type:                  opg                                         \n",
              "==============================================================================\n",
              "                 coef    std err          z      P>|z|      [0.025      0.975]\n",
              "------------------------------------------------------------------------------\n",
              "ar.L1          0.1252      0.060      2.097      0.036       0.008       0.242\n",
              "ma.L1         -0.9624      0.017    -56.429      0.000      -0.996      -0.929\n",
              "sigma2        49.1512      3.250     15.122      0.000      42.781      55.522\n",
              "===================================================================================\n",
              "Ljung-Box (L1) (Q):                   0.04   Jarque-Bera (JB):                25.33\n",
              "Prob(Q):                              0.84   Prob(JB):                         0.00\n",
              "Heteroskedasticity (H):               0.96   Skew:                             0.57\n",
              "Prob(H) (two-sided):                  0.81   Kurtosis:                         3.60\n",
              "===================================================================================\n",
              "\n",
              "Warnings:\n",
              "[1] Covariance matrix calculated using the outer product of gradients (complex-step).\n",
              "\"\"\""
            ],
            "text/html": [
              "<table class=\"simpletable\">\n",
              "<caption>SARIMAX Results</caption>\n",
              "<tr>\n",
              "  <th>Dep. Variable:</th>           <td>y</td>        <th>  No. Observations:  </th>    <td>365</td>   \n",
              "</tr>\n",
              "<tr>\n",
              "  <th>Model:</th>           <td>SARIMAX(1, 1, 1)</td> <th>  Log Likelihood     </th> <td>-1226.537</td>\n",
              "</tr>\n",
              "<tr>\n",
              "  <th>Date:</th>            <td>Tue, 16 Jul 2024</td> <th>  AIC                </th> <td>2459.074</td> \n",
              "</tr>\n",
              "<tr>\n",
              "  <th>Time:</th>                <td>20:09:14</td>     <th>  BIC                </th> <td>2470.766</td> \n",
              "</tr>\n",
              "<tr>\n",
              "  <th>Sample:</th>             <td>01-01-1959</td>    <th>  HQIC               </th> <td>2463.721</td> \n",
              "</tr>\n",
              "<tr>\n",
              "  <th></th>                   <td>- 12-31-1959</td>   <th>                     </th>     <td> </td>    \n",
              "</tr>\n",
              "<tr>\n",
              "  <th>Covariance Type:</th>        <td>opg</td>       <th>                     </th>     <td> </td>    \n",
              "</tr>\n",
              "</table>\n",
              "<table class=\"simpletable\">\n",
              "<tr>\n",
              "     <td></td>       <th>coef</th>     <th>std err</th>      <th>z</th>      <th>P>|z|</th>  <th>[0.025</th>    <th>0.975]</th>  \n",
              "</tr>\n",
              "<tr>\n",
              "  <th>ar.L1</th>  <td>    0.1252</td> <td>    0.060</td> <td>    2.097</td> <td> 0.036</td> <td>    0.008</td> <td>    0.242</td>\n",
              "</tr>\n",
              "<tr>\n",
              "  <th>ma.L1</th>  <td>   -0.9624</td> <td>    0.017</td> <td>  -56.429</td> <td> 0.000</td> <td>   -0.996</td> <td>   -0.929</td>\n",
              "</tr>\n",
              "<tr>\n",
              "  <th>sigma2</th> <td>   49.1512</td> <td>    3.250</td> <td>   15.122</td> <td> 0.000</td> <td>   42.781</td> <td>   55.522</td>\n",
              "</tr>\n",
              "</table>\n",
              "<table class=\"simpletable\">\n",
              "<tr>\n",
              "  <th>Ljung-Box (L1) (Q):</th>     <td>0.04</td> <th>  Jarque-Bera (JB):  </th> <td>25.33</td>\n",
              "</tr>\n",
              "<tr>\n",
              "  <th>Prob(Q):</th>                <td>0.84</td> <th>  Prob(JB):          </th> <td>0.00</td> \n",
              "</tr>\n",
              "<tr>\n",
              "  <th>Heteroskedasticity (H):</th> <td>0.96</td> <th>  Skew:              </th> <td>0.57</td> \n",
              "</tr>\n",
              "<tr>\n",
              "  <th>Prob(H) (two-sided):</th>    <td>0.81</td> <th>  Kurtosis:          </th> <td>3.60</td> \n",
              "</tr>\n",
              "</table><br/><br/>Warnings:<br/>[1] Covariance matrix calculated using the outer product of gradients (complex-step)."
            ],
            "text/latex": "\\begin{center}\n\\begin{tabular}{lclc}\n\\toprule\n\\textbf{Dep. Variable:}          &        y         & \\textbf{  No. Observations:  } &    365      \\\\\n\\textbf{Model:}                  & SARIMAX(1, 1, 1) & \\textbf{  Log Likelihood     } & -1226.537   \\\\\n\\textbf{Date:}                   & Tue, 16 Jul 2024 & \\textbf{  AIC                } &  2459.074   \\\\\n\\textbf{Time:}                   &     20:09:14     & \\textbf{  BIC                } &  2470.766   \\\\\n\\textbf{Sample:}                 &    01-01-1959    & \\textbf{  HQIC               } &  2463.721   \\\\\n\\textbf{}                        &   - 12-31-1959   & \\textbf{                     } &             \\\\\n\\textbf{Covariance Type:}        &       opg        & \\textbf{                     } &             \\\\\n\\bottomrule\n\\end{tabular}\n\\begin{tabular}{lcccccc}\n                & \\textbf{coef} & \\textbf{std err} & \\textbf{z} & \\textbf{P$> |$z$|$} & \\textbf{[0.025} & \\textbf{0.975]}  \\\\\n\\midrule\n\\textbf{ar.L1}  &       0.1252  &        0.060     &     2.097  &         0.036        &        0.008    &        0.242     \\\\\n\\textbf{ma.L1}  &      -0.9624  &        0.017     &   -56.429  &         0.000        &       -0.996    &       -0.929     \\\\\n\\textbf{sigma2} &      49.1512  &        3.250     &    15.122  &         0.000        &       42.781    &       55.522     \\\\\n\\bottomrule\n\\end{tabular}\n\\begin{tabular}{lclc}\n\\textbf{Ljung-Box (L1) (Q):}     & 0.04 & \\textbf{  Jarque-Bera (JB):  } & 25.33  \\\\\n\\textbf{Prob(Q):}                & 0.84 & \\textbf{  Prob(JB):          } &  0.00  \\\\\n\\textbf{Heteroskedasticity (H):} & 0.96 & \\textbf{  Skew:              } &  0.57  \\\\\n\\textbf{Prob(H) (two-sided):}    & 0.81 & \\textbf{  Kurtosis:          } &  3.60  \\\\\n\\bottomrule\n\\end{tabular}\n%\\caption{SARIMAX Results}\n\\end{center}\n\nWarnings: \\newline\n [1] Covariance matrix calculated using the outer product of gradients (complex-step)."
          },
          "metadata": {},
          "execution_count": 11
        }
      ]
    },
    {
      "cell_type": "code",
      "source": [
        "stepwise_fit=auto_arima(airlinePass['Thousands of Passengers'],start_p=0,start_q=0,max_p=4,max_q=4,seasonal=True,trace=True,m=12)"
      ],
      "metadata": {
        "colab": {
          "base_uri": "https://localhost:8080/"
        },
        "id": "dvjK16i-KdaM",
        "outputId": "2f9d2d69-becf-41a3-a0bd-6e7f7f38e903"
      },
      "execution_count": 14,
      "outputs": [
        {
          "output_type": "stream",
          "name": "stdout",
          "text": [
            "Performing stepwise search to minimize aic\n",
            " ARIMA(0,1,0)(1,1,1)[12]             : AIC=1032.128, Time=0.39 sec\n",
            " ARIMA(0,1,0)(0,1,0)[12]             : AIC=1031.508, Time=0.04 sec\n",
            " ARIMA(1,1,0)(1,1,0)[12]             : AIC=1020.393, Time=0.15 sec\n",
            " ARIMA(0,1,1)(0,1,1)[12]             : AIC=1021.003, Time=0.27 sec\n",
            " ARIMA(1,1,0)(0,1,0)[12]             : AIC=1020.393, Time=0.07 sec\n",
            " ARIMA(1,1,0)(2,1,0)[12]             : AIC=1019.239, Time=0.42 sec\n",
            " ARIMA(1,1,0)(2,1,1)[12]             : AIC=inf, Time=5.58 sec\n",
            " ARIMA(1,1,0)(1,1,1)[12]             : AIC=1020.493, Time=0.50 sec\n",
            " ARIMA(0,1,0)(2,1,0)[12]             : AIC=1032.120, Time=0.33 sec\n",
            " ARIMA(2,1,0)(2,1,0)[12]             : AIC=1021.120, Time=0.59 sec\n",
            " ARIMA(1,1,1)(2,1,0)[12]             : AIC=1021.032, Time=0.86 sec\n",
            " ARIMA(0,1,1)(2,1,0)[12]             : AIC=1019.178, Time=0.46 sec\n",
            " ARIMA(0,1,1)(1,1,0)[12]             : AIC=1020.425, Time=0.23 sec\n",
            " ARIMA(0,1,1)(2,1,1)[12]             : AIC=inf, Time=2.88 sec\n",
            " ARIMA(0,1,1)(1,1,1)[12]             : AIC=1020.327, Time=0.66 sec\n",
            " ARIMA(0,1,2)(2,1,0)[12]             : AIC=1021.148, Time=0.55 sec\n",
            " ARIMA(1,1,2)(2,1,0)[12]             : AIC=1022.805, Time=1.23 sec\n",
            " ARIMA(0,1,1)(2,1,0)[12] intercept   : AIC=1021.017, Time=0.83 sec\n",
            "\n",
            "Best model:  ARIMA(0,1,1)(2,1,0)[12]          \n",
            "Total fit time: 16.109 seconds\n"
          ]
        }
      ]
    },
    {
      "cell_type": "code",
      "source": [
        "stepwise_fit.summary()"
      ],
      "metadata": {
        "colab": {
          "base_uri": "https://localhost:8080/",
          "height": 452
        },
        "id": "0zTWaUBxLKUN",
        "outputId": "d574b6bd-5969-4fbf-9d1d-3062eead2276"
      },
      "execution_count": 15,
      "outputs": [
        {
          "output_type": "execute_result",
          "data": {
            "text/plain": [
              "<class 'statsmodels.iolib.summary.Summary'>\n",
              "\"\"\"\n",
              "                                      SARIMAX Results                                      \n",
              "===========================================================================================\n",
              "Dep. Variable:                                   y   No. Observations:                  144\n",
              "Model:             SARIMAX(0, 1, 1)x(2, 1, [], 12)   Log Likelihood                -505.589\n",
              "Date:                             Tue, 16 Jul 2024   AIC                           1019.178\n",
              "Time:                                     20:14:09   BIC                           1030.679\n",
              "Sample:                                 01-01-1949   HQIC                          1023.851\n",
              "                                      - 12-01-1960                                         \n",
              "Covariance Type:                               opg                                         \n",
              "==============================================================================\n",
              "                 coef    std err          z      P>|z|      [0.025      0.975]\n",
              "------------------------------------------------------------------------------\n",
              "ma.L1         -0.3634      0.074     -4.945      0.000      -0.508      -0.219\n",
              "ar.S.L12      -0.1239      0.090     -1.372      0.170      -0.301       0.053\n",
              "ar.S.L24       0.1911      0.107      1.783      0.075      -0.019       0.401\n",
              "sigma2       130.4480     15.527      8.402      0.000     100.016     160.880\n",
              "===================================================================================\n",
              "Ljung-Box (L1) (Q):                   0.01   Jarque-Bera (JB):                 4.59\n",
              "Prob(Q):                              0.92   Prob(JB):                         0.10\n",
              "Heteroskedasticity (H):               2.70   Skew:                             0.15\n",
              "Prob(H) (two-sided):                  0.00   Kurtosis:                         3.87\n",
              "===================================================================================\n",
              "\n",
              "Warnings:\n",
              "[1] Covariance matrix calculated using the outer product of gradients (complex-step).\n",
              "\"\"\""
            ],
            "text/html": [
              "<table class=\"simpletable\">\n",
              "<caption>SARIMAX Results</caption>\n",
              "<tr>\n",
              "  <th>Dep. Variable:</th>                  <td>y</td>                <th>  No. Observations:  </th>    <td>144</td>  \n",
              "</tr>\n",
              "<tr>\n",
              "  <th>Model:</th>           <td>SARIMAX(0, 1, 1)x(2, 1, [], 12)</td> <th>  Log Likelihood     </th> <td>-505.589</td>\n",
              "</tr>\n",
              "<tr>\n",
              "  <th>Date:</th>                   <td>Tue, 16 Jul 2024</td>         <th>  AIC                </th> <td>1019.178</td>\n",
              "</tr>\n",
              "<tr>\n",
              "  <th>Time:</th>                       <td>20:14:09</td>             <th>  BIC                </th> <td>1030.679</td>\n",
              "</tr>\n",
              "<tr>\n",
              "  <th>Sample:</th>                    <td>01-01-1949</td>            <th>  HQIC               </th> <td>1023.851</td>\n",
              "</tr>\n",
              "<tr>\n",
              "  <th></th>                          <td>- 12-01-1960</td>           <th>                     </th>     <td> </td>   \n",
              "</tr>\n",
              "<tr>\n",
              "  <th>Covariance Type:</th>               <td>opg</td>               <th>                     </th>     <td> </td>   \n",
              "</tr>\n",
              "</table>\n",
              "<table class=\"simpletable\">\n",
              "<tr>\n",
              "      <td></td>        <th>coef</th>     <th>std err</th>      <th>z</th>      <th>P>|z|</th>  <th>[0.025</th>    <th>0.975]</th>  \n",
              "</tr>\n",
              "<tr>\n",
              "  <th>ma.L1</th>    <td>   -0.3634</td> <td>    0.074</td> <td>   -4.945</td> <td> 0.000</td> <td>   -0.508</td> <td>   -0.219</td>\n",
              "</tr>\n",
              "<tr>\n",
              "  <th>ar.S.L12</th> <td>   -0.1239</td> <td>    0.090</td> <td>   -1.372</td> <td> 0.170</td> <td>   -0.301</td> <td>    0.053</td>\n",
              "</tr>\n",
              "<tr>\n",
              "  <th>ar.S.L24</th> <td>    0.1911</td> <td>    0.107</td> <td>    1.783</td> <td> 0.075</td> <td>   -0.019</td> <td>    0.401</td>\n",
              "</tr>\n",
              "<tr>\n",
              "  <th>sigma2</th>   <td>  130.4480</td> <td>   15.527</td> <td>    8.402</td> <td> 0.000</td> <td>  100.016</td> <td>  160.880</td>\n",
              "</tr>\n",
              "</table>\n",
              "<table class=\"simpletable\">\n",
              "<tr>\n",
              "  <th>Ljung-Box (L1) (Q):</th>     <td>0.01</td> <th>  Jarque-Bera (JB):  </th> <td>4.59</td>\n",
              "</tr>\n",
              "<tr>\n",
              "  <th>Prob(Q):</th>                <td>0.92</td> <th>  Prob(JB):          </th> <td>0.10</td>\n",
              "</tr>\n",
              "<tr>\n",
              "  <th>Heteroskedasticity (H):</th> <td>2.70</td> <th>  Skew:              </th> <td>0.15</td>\n",
              "</tr>\n",
              "<tr>\n",
              "  <th>Prob(H) (two-sided):</th>    <td>0.00</td> <th>  Kurtosis:          </th> <td>3.87</td>\n",
              "</tr>\n",
              "</table><br/><br/>Warnings:<br/>[1] Covariance matrix calculated using the outer product of gradients (complex-step)."
            ],
            "text/latex": "\\begin{center}\n\\begin{tabular}{lclc}\n\\toprule\n\\textbf{Dep. Variable:}          &                y                & \\textbf{  No. Observations:  } &    144      \\\\\n\\textbf{Model:}                  & SARIMAX(0, 1, 1)x(2, 1, [], 12) & \\textbf{  Log Likelihood     } &  -505.589   \\\\\n\\textbf{Date:}                   &         Tue, 16 Jul 2024        & \\textbf{  AIC                } &  1019.178   \\\\\n\\textbf{Time:}                   &             20:14:09            & \\textbf{  BIC                } &  1030.679   \\\\\n\\textbf{Sample:}                 &            01-01-1949           & \\textbf{  HQIC               } &  1023.851   \\\\\n\\textbf{}                        &           - 12-01-1960          & \\textbf{                     } &             \\\\\n\\textbf{Covariance Type:}        &               opg               & \\textbf{                     } &             \\\\\n\\bottomrule\n\\end{tabular}\n\\begin{tabular}{lcccccc}\n                  & \\textbf{coef} & \\textbf{std err} & \\textbf{z} & \\textbf{P$> |$z$|$} & \\textbf{[0.025} & \\textbf{0.975]}  \\\\\n\\midrule\n\\textbf{ma.L1}    &      -0.3634  &        0.074     &    -4.945  &         0.000        &       -0.508    &       -0.219     \\\\\n\\textbf{ar.S.L12} &      -0.1239  &        0.090     &    -1.372  &         0.170        &       -0.301    &        0.053     \\\\\n\\textbf{ar.S.L24} &       0.1911  &        0.107     &     1.783  &         0.075        &       -0.019    &        0.401     \\\\\n\\textbf{sigma2}   &     130.4480  &       15.527     &     8.402  &         0.000        &      100.016    &      160.880     \\\\\n\\bottomrule\n\\end{tabular}\n\\begin{tabular}{lclc}\n\\textbf{Ljung-Box (L1) (Q):}     & 0.01 & \\textbf{  Jarque-Bera (JB):  } & 4.59  \\\\\n\\textbf{Prob(Q):}                & 0.92 & \\textbf{  Prob(JB):          } & 0.10  \\\\\n\\textbf{Heteroskedasticity (H):} & 2.70 & \\textbf{  Skew:              } & 0.15  \\\\\n\\textbf{Prob(H) (two-sided):}    & 0.00 & \\textbf{  Kurtosis:          } & 3.87  \\\\\n\\bottomrule\n\\end{tabular}\n%\\caption{SARIMAX Results}\n\\end{center}\n\nWarnings: \\newline\n [1] Covariance matrix calculated using the outer product of gradients (complex-step)."
          },
          "metadata": {},
          "execution_count": 15
        }
      ]
    },
    {
      "cell_type": "code",
      "source": [],
      "metadata": {
        "id": "rd8GrTBBLlbC"
      },
      "execution_count": null,
      "outputs": []
    }
  ]
}