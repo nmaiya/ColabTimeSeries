{
  "nbformat": 4,
  "nbformat_minor": 0,
  "metadata": {
    "colab": {
      "provenance": [],
      "authorship_tag": "ABX9TyO4QYktHLnleUnb0lfzE7/t",
      "include_colab_link": true
    },
    "kernelspec": {
      "name": "python3",
      "display_name": "Python 3"
    },
    "language_info": {
      "name": "python"
    }
  },
  "cells": [
    {
      "cell_type": "markdown",
      "metadata": {
        "id": "view-in-github",
        "colab_type": "text"
      },
      "source": [
        "<a href=\"https://colab.research.google.com/github/nmaiya/ColabTimeSeries/blob/main/Descriptive_Statistics_and_Tests.ipynb\" target=\"_parent\"><img src=\"https://colab.research.google.com/assets/colab-badge.svg\" alt=\"Open In Colab\"/></a>"
      ]
    },
    {
      "cell_type": "code",
      "execution_count": 2,
      "metadata": {
        "id": "r1py0s_B1cY1"
      },
      "outputs": [],
      "source": [
        "import pandas as pd\n",
        "import numpy as np\n",
        "%matplotlib inline"
      ]
    },
    {
      "cell_type": "code",
      "source": [
        "airPass= pd.read_csv('/content/airline_passengers.csv',index_col='Month',parse_dates=True)\n",
        "femaleBith= pd.read_csv('/content/DailyTotalFemaleBirths.csv',index_col='Date',parse_dates=True)\n",
        "airPass.index.freq='MS'\n",
        "femaleBith.index.freq='D'"
      ],
      "metadata": {
        "id": "v3911-zN1uGS"
      },
      "execution_count": 3,
      "outputs": []
    },
    {
      "cell_type": "code",
      "source": [
        "from statsmodels.tsa.stattools import adfuller"
      ],
      "metadata": {
        "id": "ZSsOP6-g2JgH"
      },
      "execution_count": 5,
      "outputs": []
    },
    {
      "cell_type": "code",
      "source": [
        "adfuller(airPass['Thousands of Passengers'])"
      ],
      "metadata": {
        "id": "r8I3NqLo7RIf",
        "outputId": "e3fe140e-82fa-4038-87cc-ae5a46c13c81",
        "colab": {
          "base_uri": "https://localhost:8080/"
        }
      },
      "execution_count": 7,
      "outputs": [
        {
          "output_type": "execute_result",
          "data": {
            "text/plain": [
              "(0.8153688792060498,\n",
              " 0.991880243437641,\n",
              " 13,\n",
              " 130,\n",
              " {'1%': -3.4816817173418295,\n",
              "  '5%': -2.8840418343195267,\n",
              "  '10%': -2.578770059171598},\n",
              " 996.692930839019)"
            ]
          },
          "metadata": {},
          "execution_count": 7
        }
      ]
    },
    {
      "cell_type": "code",
      "source": [
        "help(adfuller)"
      ],
      "metadata": {
        "id": "SFnK79e67lhL",
        "outputId": "a2333fc2-e31d-43d1-f317-02e22df44aea",
        "colab": {
          "base_uri": "https://localhost:8080/"
        }
      },
      "execution_count": 9,
      "outputs": [
        {
          "output_type": "stream",
          "name": "stdout",
          "text": [
            "Help on function adfuller in module statsmodels.tsa.stattools:\n",
            "\n",
            "adfuller(x, maxlag: 'int | None' = None, regression='c', autolag='AIC', store=False, regresults=False)\n",
            "    Augmented Dickey-Fuller unit root test.\n",
            "    \n",
            "    The Augmented Dickey-Fuller test can be used to test for a unit root in a\n",
            "    univariate process in the presence of serial correlation.\n",
            "    \n",
            "    Parameters\n",
            "    ----------\n",
            "    x : array_like, 1d\n",
            "        The data series to test.\n",
            "    maxlag : {None, int}\n",
            "        Maximum lag which is included in test, default value of\n",
            "        12*(nobs/100)^{1/4} is used when ``None``.\n",
            "    regression : {\"c\",\"ct\",\"ctt\",\"n\"}\n",
            "        Constant and trend order to include in regression.\n",
            "    \n",
            "        * \"c\" : constant only (default).\n",
            "        * \"ct\" : constant and trend.\n",
            "        * \"ctt\" : constant, and linear and quadratic trend.\n",
            "        * \"n\" : no constant, no trend.\n",
            "    \n",
            "    autolag : {\"AIC\", \"BIC\", \"t-stat\", None}\n",
            "        Method to use when automatically determining the lag length among the\n",
            "        values 0, 1, ..., maxlag.\n",
            "    \n",
            "        * If \"AIC\" (default) or \"BIC\", then the number of lags is chosen\n",
            "          to minimize the corresponding information criterion.\n",
            "        * \"t-stat\" based choice of maxlag.  Starts with maxlag and drops a\n",
            "          lag until the t-statistic on the last lag length is significant\n",
            "          using a 5%-sized test.\n",
            "        * If None, then the number of included lags is set to maxlag.\n",
            "    store : bool\n",
            "        If True, then a result instance is returned additionally to\n",
            "        the adf statistic. Default is False.\n",
            "    regresults : bool, optional\n",
            "        If True, the full regression results are returned. Default is False.\n",
            "    \n",
            "    Returns\n",
            "    -------\n",
            "    adf : float\n",
            "        The test statistic.\n",
            "    pvalue : float\n",
            "        MacKinnon's approximate p-value based on MacKinnon (1994, 2010).\n",
            "    usedlag : int\n",
            "        The number of lags used.\n",
            "    nobs : int\n",
            "        The number of observations used for the ADF regression and calculation\n",
            "        of the critical values.\n",
            "    critical values : dict\n",
            "        Critical values for the test statistic at the 1 %, 5 %, and 10 %\n",
            "        levels. Based on MacKinnon (2010).\n",
            "    icbest : float\n",
            "        The maximized information criterion if autolag is not None.\n",
            "    resstore : ResultStore, optional\n",
            "        A dummy class with results attached as attributes.\n",
            "    \n",
            "    Notes\n",
            "    -----\n",
            "    The null hypothesis of the Augmented Dickey-Fuller is that there is a unit\n",
            "    root, with the alternative that there is no unit root. If the pvalue is\n",
            "    above a critical size, then we cannot reject that there is a unit root.\n",
            "    \n",
            "    The p-values are obtained through regression surface approximation from\n",
            "    MacKinnon 1994, but using the updated 2010 tables. If the p-value is close\n",
            "    to significant, then the critical values should be used to judge whether\n",
            "    to reject the null.\n",
            "    \n",
            "    The autolag option and maxlag for it are described in Greene.\n",
            "    \n",
            "    See the notebook `Stationarity and detrending (ADF/KPSS)\n",
            "    <../examples/notebooks/generated/stationarity_detrending_adf_kpss.html>`__\n",
            "    for an overview.\n",
            "    \n",
            "    References\n",
            "    ----------\n",
            "    .. [1] W. Green.  \"Econometric Analysis,\" 5th ed., Pearson, 2003.\n",
            "    \n",
            "    .. [2] Hamilton, J.D.  \"Time Series Analysis\".  Princeton, 1994.\n",
            "    \n",
            "    .. [3] MacKinnon, J.G. 1994.  \"Approximate asymptotic distribution functions for\n",
            "        unit-root and cointegration tests.  `Journal of Business and Economic\n",
            "        Statistics` 12, 167-76.\n",
            "    \n",
            "    .. [4] MacKinnon, J.G. 2010. \"Critical Values for Cointegration Tests.\"  Queen\"s\n",
            "        University, Dept of Economics, Working Papers.  Available at\n",
            "        http://ideas.repec.org/p/qed/wpaper/1227.html\n",
            "\n"
          ]
        }
      ]
    },
    {
      "cell_type": "code",
      "source": [
        "dftest=adfuller(airPass['Thousands of Passengers'])\n",
        "dfout=pd.Series(dftest[0:4],index=['Test Statistic','p-value','#Lags Used','Number of Observations Used'])\n",
        "for key,value in dftest[4].items():\n",
        "  dfout['Critical Value (%s)'%key]=value\n",
        "print(dfout)"
      ],
      "metadata": {
        "id": "MZW3Po0g7tgr",
        "outputId": "190ca42b-28cb-4e6d-a30c-2f9b041cf044",
        "colab": {
          "base_uri": "https://localhost:8080/"
        }
      },
      "execution_count": 10,
      "outputs": [
        {
          "output_type": "stream",
          "name": "stdout",
          "text": [
            "Test Statistic                   0.815369\n",
            "p-value                          0.991880\n",
            "#Lags Used                      13.000000\n",
            "Number of Observations Used    130.000000\n",
            "Critical Value (1%)             -3.481682\n",
            "Critical Value (5%)             -2.884042\n",
            "Critical Value (10%)            -2.578770\n",
            "dtype: float64\n"
          ]
        }
      ]
    },
    {
      "cell_type": "code",
      "source": [],
      "metadata": {
        "id": "P4xpXIc17yuw"
      },
      "execution_count": null,
      "outputs": []
    }
  ]
}