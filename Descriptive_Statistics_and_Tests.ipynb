{
  "nbformat": 4,
  "nbformat_minor": 0,
  "metadata": {
    "colab": {
      "provenance": [],
      "authorship_tag": "ABX9TyOcdpcF7HoMZack0YKjuMpH",
      "include_colab_link": true
    },
    "kernelspec": {
      "name": "python3",
      "display_name": "Python 3"
    },
    "language_info": {
      "name": "python"
    }
  },
  "cells": [
    {
      "cell_type": "markdown",
      "metadata": {
        "id": "view-in-github",
        "colab_type": "text"
      },
      "source": [
        "<a href=\"https://colab.research.google.com/github/nmaiya/ColabTimeSeries/blob/main/Descriptive_Statistics_and_Tests.ipynb\" target=\"_parent\"><img src=\"https://colab.research.google.com/assets/colab-badge.svg\" alt=\"Open In Colab\"/></a>"
      ]
    },
    {
      "cell_type": "code",
      "execution_count": 1,
      "metadata": {
        "id": "r1py0s_B1cY1"
      },
      "outputs": [],
      "source": [
        "import pandas as pd\n",
        "import numpy as np\n",
        "%matplotlib inline"
      ]
    },
    {
      "cell_type": "code",
      "source": [
        "airPass= pd.read_csv('/content/airline_passengers.csv',index_col='Month',parse_dates=True)\n",
        "femaleBith= pd.read_csv('/content/DailyTotalFemaleBirths.csv',index_col='Date',parse_dates=True)\n",
        "airPass.index.freq='MS'\n",
        "femaleBith.index.freq='D'"
      ],
      "metadata": {
        "id": "v3911-zN1uGS"
      },
      "execution_count": 3,
      "outputs": []
    },
    {
      "cell_type": "code",
      "source": [],
      "metadata": {
        "id": "ZSsOP6-g2JgH"
      },
      "execution_count": null,
      "outputs": []
    }
  ]
}